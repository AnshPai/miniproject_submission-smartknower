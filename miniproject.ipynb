{
  "nbformat": 4,
  "nbformat_minor": 0,
  "metadata": {
    "colab": {
      "name": "miniproject.ipynb",
      "provenance": [],
      "collapsed_sections": []
    },
    "kernelspec": {
      "name": "python3",
      "display_name": "Python 3"
    },
    "language_info": {
      "name": "python"
    }
  },
  "cells": [
    {
      "cell_type": "code",
      "metadata": {
        "id": "UVOs_xEgw3eb",
        "colab": {
          "base_uri": "https://localhost:8080/"
        },
        "outputId": "4e6101ef-56ca-4360-ab42-e781da4e0ba4"
      },
      "source": [
        "!pip install bing-image-downloader"
      ],
      "execution_count": null,
      "outputs": [
        {
          "output_type": "stream",
          "text": [
            "Collecting bing-image-downloader\n",
            "  Downloading https://files.pythonhosted.org/packages/0d/bf/537a61030b84ae4cd5022d5c7b014fd9bc3ce7c02358919153a6658a61d3/bing_image_downloader-1.0.4-py3-none-any.whl\n",
            "Installing collected packages: bing-image-downloader\n",
            "Successfully installed bing-image-downloader-1.0.4\n"
          ],
          "name": "stdout"
        }
      ]
    },
    {
      "cell_type": "code",
      "metadata": {
        "id": "HJJle7fbw9LY"
      },
      "source": [
        "!mkdir image"
      ],
      "execution_count": null,
      "outputs": []
    },
    {
      "cell_type": "code",
      "metadata": {
        "id": "OjNbYLT-w-xW",
        "colab": {
          "base_uri": "https://localhost:8080/"
        },
        "outputId": "bd25da95-c4db-4eff-fa9a-b86f87d6464c"
      },
      "source": [
        "from bing_image_downloader import downloader\n",
        "downloader.download(\"Shirts\", limit=30, output_dir='image')"
      ],
      "execution_count": null,
      "outputs": [
        {
          "output_type": "stream",
          "text": [
            "\n",
            "\n",
            "[!!]Indexing page: 1\n",
            "\n",
            "[%] Indexed 12 Images on Page 1.\n",
            "\n",
            "===============================================\n",
            "\n",
            "[%] Downloading Image #1 from https://www.sortrachen.com/wp-content/uploads/2013/08/mens-shirt-apron03.jpg\n",
            "[%] File Downloaded !\n",
            "\n",
            "[%] Downloading Image #2 from https://www.slambaby.com/images/watermarked/1/detailed/15/Hot_Wheels_-_2005_Ford_Mustang_Blue_HW_Race_Team-5.jpg\n",
            "[%] File Downloaded !\n",
            "\n",
            "[%] Downloading Image #3 from https://uploads.neatorama.com/images/posts/340/53/53340/1349670822-0.jpg\n",
            "[%] File Downloaded !\n",
            "\n",
            "[%] Downloading Image #4 from http://dzasv7x7a867v.cloudfront.net/product_photos/14705491/photo_201_large.JPG\n",
            "[%] File Downloaded !\n",
            "\n",
            "[%] Downloading Image #5 from https://www.seedsman.com/media/catalog/product/cache/1/image/1800x/040ec09b1e35df139433887a97daa66f/a/k/ak474.jpg\n",
            "[%] File Downloaded !\n",
            "\n",
            "[%] Downloading Image #6 from https://glamradar.com/wp-content/uploads/2015/10/1.-skinny-jeans-with-statement-shoes.jpg\n",
            "[!] Issue getting: https://glamradar.com/wp-content/uploads/2015/10/1.-skinny-jeans-with-statement-shoes.jpg\n",
            "[!] Error:: HTTP Error 523: Origin Unreachable\n",
            "[%] Downloading Image #6 from https://www.architectureartdesigns.com/wp-content/uploads/2013/06/remodelaholic._com-630x947.jpg\n",
            "[%] File Downloaded !\n",
            "\n",
            "[%] Downloading Image #7 from http://fashionsy.com/wp-content/uploads/2017/04/fishnet-tights-outfit-1-1.jpg\n",
            "[%] File Downloaded !\n",
            "\n",
            "[%] Downloading Image #8 from http://cakesbycrystalva.com/wp-content/uploads/2014/02/P1080638.jpg\n",
            "[%] File Downloaded !\n",
            "\n",
            "[%] Downloading Image #9 from https://www.insertcoinclothing.com/media/images/products/scale610x1002/214_3.jpg?c=1467340445\n",
            "[%] File Downloaded !\n",
            "\n",
            "[%] Downloading Image #10 from http://allforfashions.com/wp-content/uploads/2016/01/Ripped-Jeans-and-White-Blazer-Outfit-Idea.jpg\n",
            "[%] File Downloaded !\n",
            "\n",
            "[%] Downloading Image #11 from http://modernfashionblog.com/wp-content/uploads/2016/08/15-Funny-Cheap-Easy-Homemade-Halloween-Costumes-2016-9.jpg\n",
            "[%] File Downloaded !\n",
            "\n",
            "\n",
            "\n",
            "[!!]Indexing page: 2\n",
            "\n",
            "[%] Indexed 12 Images on Page 2.\n",
            "\n",
            "===============================================\n",
            "\n",
            "[%] Downloading Image #12 from https://www.sortrachen.com/wp-content/uploads/2013/08/mens-shirt-apron03.jpg\n",
            "[%] File Downloaded !\n",
            "\n",
            "[%] Downloading Image #13 from https://www.slambaby.com/images/watermarked/1/detailed/15/Hot_Wheels_-_2005_Ford_Mustang_Blue_HW_Race_Team-5.jpg\n",
            "[%] File Downloaded !\n",
            "\n",
            "[%] Downloading Image #14 from https://uploads.neatorama.com/images/posts/340/53/53340/1349670822-0.jpg\n",
            "[%] File Downloaded !\n",
            "\n",
            "[%] Downloading Image #15 from http://dzasv7x7a867v.cloudfront.net/product_photos/14705491/photo_201_large.JPG\n",
            "[%] File Downloaded !\n",
            "\n",
            "[%] Downloading Image #16 from https://www.seedsman.com/media/catalog/product/cache/1/image/1800x/040ec09b1e35df139433887a97daa66f/a/k/ak474.jpg\n",
            "[%] File Downloaded !\n",
            "\n",
            "[%] Downloading Image #17 from https://glamradar.com/wp-content/uploads/2015/10/1.-skinny-jeans-with-statement-shoes.jpg\n",
            "[!] Issue getting: https://glamradar.com/wp-content/uploads/2015/10/1.-skinny-jeans-with-statement-shoes.jpg\n",
            "[!] Error:: HTTP Error 523: Origin Unreachable\n",
            "[%] Downloading Image #17 from https://www.architectureartdesigns.com/wp-content/uploads/2013/06/remodelaholic._com-630x947.jpg\n",
            "[%] File Downloaded !\n",
            "\n",
            "[%] Downloading Image #18 from http://fashionsy.com/wp-content/uploads/2017/04/fishnet-tights-outfit-1-1.jpg\n",
            "[%] File Downloaded !\n",
            "\n",
            "[%] Downloading Image #19 from http://cakesbycrystalva.com/wp-content/uploads/2014/02/P1080638.jpg\n",
            "[%] File Downloaded !\n",
            "\n",
            "[%] Downloading Image #20 from https://www.insertcoinclothing.com/media/images/products/scale610x1002/214_3.jpg?c=1467340445\n",
            "[%] File Downloaded !\n",
            "\n",
            "[%] Downloading Image #21 from http://allforfashions.com/wp-content/uploads/2016/01/Ripped-Jeans-and-White-Blazer-Outfit-Idea.jpg\n",
            "[%] File Downloaded !\n",
            "\n",
            "[%] Downloading Image #22 from http://modernfashionblog.com/wp-content/uploads/2016/08/15-Funny-Cheap-Easy-Homemade-Halloween-Costumes-2016-9.jpg\n",
            "[%] File Downloaded !\n",
            "\n",
            "\n",
            "\n",
            "[!!]Indexing page: 3\n",
            "\n",
            "[%] Indexed 11 Images on Page 3.\n",
            "\n",
            "===============================================\n",
            "\n",
            "[%] Downloading Image #23 from http://dzasv7x7a867v.cloudfront.net/product_photos/14705491/photo_201_large.JPG\n",
            "[%] File Downloaded !\n",
            "\n",
            "[%] Downloading Image #24 from https://www.architectureartdesigns.com/wp-content/uploads/2013/06/remodelaholic._com-630x947.jpg\n",
            "[%] File Downloaded !\n",
            "\n",
            "[%] Downloading Image #25 from https://www.seedsman.com/media/catalog/product/cache/1/image/1800x/040ec09b1e35df139433887a97daa66f/a/k/ak474.jpg\n",
            "[%] File Downloaded !\n",
            "\n",
            "[%] Downloading Image #26 from https://glamradar.com/wp-content/uploads/2015/10/1.-skinny-jeans-with-statement-shoes.jpg\n",
            "[!] Issue getting: https://glamradar.com/wp-content/uploads/2015/10/1.-skinny-jeans-with-statement-shoes.jpg\n",
            "[!] Error:: HTTP Error 523: Origin Unreachable\n",
            "[%] Downloading Image #26 from http://modernfashionblog.com/wp-content/uploads/2016/08/15-Funny-Cheap-Easy-Homemade-Halloween-Costumes-2016-9.jpg\n",
            "[%] File Downloaded !\n",
            "\n",
            "[%] Downloading Image #27 from http://fashionsy.com/wp-content/uploads/2017/04/fishnet-tights-outfit-1-1.jpg\n",
            "[%] File Downloaded !\n",
            "\n",
            "[%] Downloading Image #28 from http://allforfashions.com/wp-content/uploads/2016/01/Ripped-Jeans-and-White-Blazer-Outfit-Idea.jpg\n",
            "[%] File Downloaded !\n",
            "\n",
            "[%] Downloading Image #29 from https://www.insertcoinclothing.com/media/images/products/scale610x1002/214_3.jpg?c=1467340445\n",
            "[%] File Downloaded !\n",
            "\n",
            "[%] Downloading Image #30 from https://uploads.neatorama.com/images/posts/340/53/53340/1349670822-0.jpg\n",
            "[%] File Downloaded !\n",
            "\n",
            "\n",
            "\n",
            "[%] Done. Downloaded 30 images.\n",
            "\n",
            "===============================================\n",
            "\n"
          ],
          "name": "stdout"
        }
      ]
    },
    {
      "cell_type": "code",
      "metadata": {
        "id": "FejodcRfxCM0",
        "colab": {
          "base_uri": "https://localhost:8080/"
        },
        "outputId": "ff76eee7-2d43-4b54-96ba-5723ddabb697"
      },
      "source": [
        "from bing_image_downloader import downloader\n",
        "downloader.download(\"Pants\", limit=30, output_dir='image')"
      ],
      "execution_count": null,
      "outputs": [
        {
          "output_type": "stream",
          "text": [
            "\n",
            "\n",
            "[!!]Indexing page: 1\n",
            "\n",
            "[%] Indexed 12 Images on Page 1.\n",
            "\n",
            "===============================================\n",
            "\n",
            "[%] Downloading Image #1 from https://creepshots.org/wp-content/uploads/2017/09/Nice-ass-in-grey-yoga-pants-16.png\n",
            "[%] File Downloaded !\n",
            "\n",
            "[%] Downloading Image #2 from https://creepshots.org/wp-content/uploads/2017/06/high_school_creepshot_02-15.png\n",
            "[%] File Downloaded !\n",
            "\n",
            "[%] Downloading Image #3 from https://www.awesomeinventions.com/wp-content/uploads/2020/09/young-grinch-plush-toy.jpg\n",
            "[%] File Downloaded !\n",
            "\n",
            "[%] Downloading Image #4 from https://creepshots.org/wp-content/uploads/2017/03/006-1.jpg\n",
            "[%] File Downloaded !\n",
            "\n",
            "[%] Downloading Image #5 from https://creepshots.org/wp-content/uploads/2017/07/school-creepshots-candid-voyeur-26.jpg\n",
            "[%] File Downloaded !\n",
            "\n",
            "[%] Downloading Image #6 from https://www.hawtcelebs.com/wp-content/uploads/2012/11/KIM-KARDASHIAN-in-Tight-Leather-Pants-at-LAX-Airport-6-535x803.jpg\n",
            "[%] File Downloaded !\n",
            "\n",
            "[%] Downloading Image #7 from https://74dveri.ru/youngpornhd/wp-content/uploads/2018/06/Megan-Fox-Cameltoe-TheFappeningBlog.com-12-683x1024.jpg\n",
            "[%] File Downloaded !\n",
            "\n",
            "[%] Downloading Image #8 from https://creepshots.org/wp-content/uploads/2018/01/teen-leggings-class-3-7.jpg\n",
            "[%] File Downloaded !\n",
            "\n",
            "[%] Downloading Image #9 from http://www.leathercelebrities.com/images/uploads/Yazmin_Oukhellou_at_The_Only_Way_is_Essex_(1).jpg\n",
            "[%] File Downloaded !\n",
            "\n",
            "[%] Downloading Image #10 from http://www.newdvdreleasedates.com/images/posters/large/the-walk-2015-02.jpg\n",
            "[%] File Downloaded !\n",
            "\n",
            "[%] Downloading Image #11 from https://creepshots.org/wp-content/uploads/2017/03/410-6.jpg\n",
            "[%] File Downloaded !\n",
            "\n",
            "[%] Downloading Image #12 from https://kpopchingu.com/wp-content/uploads/2019/11/4-7.jpg\n",
            "[%] File Downloaded !\n",
            "\n",
            "\n",
            "\n",
            "[!!]Indexing page: 2\n",
            "\n",
            "[%] Indexed 12 Images on Page 2.\n",
            "\n",
            "===============================================\n",
            "\n",
            "[%] Downloading Image #13 from https://creepshots.org/wp-content/uploads/2017/09/Nice-ass-in-grey-yoga-pants-16.png\n",
            "[%] File Downloaded !\n",
            "\n",
            "[%] Downloading Image #14 from https://creepshots.org/wp-content/uploads/2017/06/high_school_creepshot_02-15.png\n",
            "[%] File Downloaded !\n",
            "\n",
            "[%] Downloading Image #15 from https://www.awesomeinventions.com/wp-content/uploads/2020/09/young-grinch-plush-toy.jpg\n",
            "[%] File Downloaded !\n",
            "\n",
            "[%] Downloading Image #16 from https://creepshots.org/wp-content/uploads/2017/03/006-1.jpg\n",
            "[%] File Downloaded !\n",
            "\n",
            "[%] Downloading Image #17 from https://creepshots.org/wp-content/uploads/2017/07/school-creepshots-candid-voyeur-26.jpg\n",
            "[%] File Downloaded !\n",
            "\n",
            "[%] Downloading Image #18 from https://www.hawtcelebs.com/wp-content/uploads/2012/11/KIM-KARDASHIAN-in-Tight-Leather-Pants-at-LAX-Airport-6-535x803.jpg\n",
            "[%] File Downloaded !\n",
            "\n",
            "[%] Downloading Image #19 from https://74dveri.ru/youngpornhd/wp-content/uploads/2018/06/Megan-Fox-Cameltoe-TheFappeningBlog.com-12-683x1024.jpg\n",
            "[%] File Downloaded !\n",
            "\n",
            "[%] Downloading Image #20 from https://creepshots.org/wp-content/uploads/2018/01/teen-leggings-class-3-7.jpg\n",
            "[%] File Downloaded !\n",
            "\n",
            "[%] Downloading Image #21 from http://www.leathercelebrities.com/images/uploads/Yazmin_Oukhellou_at_The_Only_Way_is_Essex_(1).jpg\n",
            "[%] File Downloaded !\n",
            "\n",
            "[%] Downloading Image #22 from http://www.newdvdreleasedates.com/images/posters/large/the-walk-2015-02.jpg\n",
            "[%] File Downloaded !\n",
            "\n",
            "[%] Downloading Image #23 from https://creepshots.org/wp-content/uploads/2017/03/410-6.jpg\n",
            "[%] File Downloaded !\n",
            "\n",
            "[%] Downloading Image #24 from https://kpopchingu.com/wp-content/uploads/2019/11/4-7.jpg\n",
            "[%] File Downloaded !\n",
            "\n",
            "\n",
            "\n",
            "[!!]Indexing page: 3\n",
            "\n",
            "[%] Indexed 11 Images on Page 3.\n",
            "\n",
            "===============================================\n",
            "\n",
            "[%] Downloading Image #25 from https://creepshots.org/wp-content/uploads/2017/02/FullSizeRender-51.jpg\n",
            "[%] File Downloaded !\n",
            "\n",
            "[%] Downloading Image #26 from https://creepshots.org/wp-content/uploads/2017/07/1275254-18.png\n",
            "[%] File Downloaded !\n",
            "\n",
            "[%] Downloading Image #27 from https://creepshots.org/wp-content/uploads/2017/03/sister-creepshots-11.png\n",
            "[%] File Downloaded !\n",
            "\n",
            "[%] Downloading Image #28 from https://creepshots.org/wp-content/uploads/2017/03/school-whale-tail-35.jpg\n",
            "[%] File Downloaded !\n",
            "\n",
            "[%] Downloading Image #29 from https://creepshots.org/wp-content/uploads/2017/01/S1450142.jpg\n",
            "[%] File Downloaded !\n",
            "\n",
            "[%] Downloading Image #30 from http://www.girlsinyogapants.com/wp-content/uploads/2013/06/4l1crsXh.jpg\n",
            "[%] File Downloaded !\n",
            "\n",
            "\n",
            "\n",
            "[%] Done. Downloaded 30 images.\n",
            "\n",
            "===============================================\n",
            "\n"
          ],
          "name": "stdout"
        }
      ]
    },
    {
      "cell_type": "code",
      "metadata": {
        "id": "2eUhVW9hxFTa"
      },
      "source": [
        "import pandas as pd\n",
        "import matplotlib.pyplot as plt\n",
        "from skimage.io import imread\n",
        "from skimage.transform import resize\n",
        "import numpy as np\n",
        "import os\n",
        "import cv2"
      ],
      "execution_count": null,
      "outputs": []
    },
    {
      "cell_type": "code",
      "metadata": {
        "id": "xyjQp492yHnR",
        "colab": {
          "base_uri": "https://localhost:8080/"
        },
        "outputId": "4a6249e8-20a9-43d9-e3ce-123eb5d8fd9c"
      },
      "source": [
        "datadir= \"/content/image\"\n",
        "categories = ['Shirts', 'Pants']\n",
        "target=[]\n",
        "flat_data=[]\n",
        "for i in categories:\n",
        "  path = os.path.join(datadir,i)\n",
        "  print(path)\n",
        "  for img in os.listdir(path):\n",
        "    img_arr = imread(os.path.join(path,img))\n",
        "    gray_img = cv2.cvtColor(img_arr, cv2.COLOR_BGR2GRAY)\n",
        "    img_resize = resize(gray_img,(150,150,1)) \n",
        "    flat_data.append(np.ndarray.flatten(img_resize))\n",
        "    target.append(i)\n",
        "\n",
        "x = np.array(flat_data)\n",
        "y = np.array(target)"
      ],
      "execution_count": null,
      "outputs": [
        {
          "output_type": "stream",
          "text": [
            "/content/image/Shirts\n",
            "/content/image/Pants\n"
          ],
          "name": "stdout"
        }
      ]
    },
    {
      "cell_type": "code",
      "metadata": {
        "id": "06IyEqMyye24"
      },
      "source": [
        "df = pd.DataFrame(flat_data)\n",
        "df['Target'] = target"
      ],
      "execution_count": null,
      "outputs": []
    },
    {
      "cell_type": "code",
      "metadata": {
        "colab": {
          "base_uri": "https://localhost:8080/"
        },
        "id": "bXQtKotazvnP",
        "outputId": "aab8bf9d-6c78-486b-ffb1-a1c5427d60a4"
      },
      "source": [
        "df['Target'].value_counts()"
      ],
      "execution_count": null,
      "outputs": [
        {
          "output_type": "execute_result",
          "data": {
            "text/plain": [
              "Shirts    30\n",
              "Pants     30\n",
              "Name: Target, dtype: int64"
            ]
          },
          "metadata": {
            "tags": []
          },
          "execution_count": 10
        }
      ]
    },
    {
      "cell_type": "code",
      "metadata": {
        "id": "h59FNynX2L8O"
      },
      "source": [
        "from sklearn.model_selection import train_test_split\n",
        "x_train,x_test,y_train,y_test = train_test_split(x,y,random_state=0,stratify=y)"
      ],
      "execution_count": null,
      "outputs": []
    },
    {
      "cell_type": "code",
      "metadata": {
        "id": "eBOz1wSH5E25",
        "colab": {
          "base_uri": "https://localhost:8080/"
        },
        "outputId": "4c7e818a-0f3f-44d3-a3bd-2d3563e0cb50"
      },
      "source": [
        "from sklearn.svm import SVC\n",
        "model = SVC()\n",
        "model.fit(x_train,y_train)"
      ],
      "execution_count": null,
      "outputs": [
        {
          "output_type": "execute_result",
          "data": {
            "text/plain": [
              "SVC(C=1.0, break_ties=False, cache_size=200, class_weight=None, coef0=0.0,\n",
              "    decision_function_shape='ovr', degree=3, gamma='scale', kernel='rbf',\n",
              "    max_iter=-1, probability=False, random_state=None, shrinking=True,\n",
              "    tol=0.001, verbose=False)"
            ]
          },
          "metadata": {
            "tags": []
          },
          "execution_count": 13
        }
      ]
    },
    {
      "cell_type": "code",
      "metadata": {
        "id": "Zz4fWZui5ewu"
      },
      "source": [
        "y_pred = model.predict(x_test)"
      ],
      "execution_count": null,
      "outputs": []
    },
    {
      "cell_type": "code",
      "metadata": {
        "id": "BXiTi8oW5hfK",
        "colab": {
          "base_uri": "https://localhost:8080/"
        },
        "outputId": "3fb37101-a067-4275-f58f-33b740f394e0"
      },
      "source": [
        "from sklearn.metrics import accuracy_score,confusion_matrix,classification_report\n",
        "accuracy_score(y_pred,y_test)"
      ],
      "execution_count": null,
      "outputs": [
        {
          "output_type": "execute_result",
          "data": {
            "text/plain": [
              "0.8666666666666667"
            ]
          },
          "metadata": {
            "tags": []
          },
          "execution_count": 15
        }
      ]
    },
    {
      "cell_type": "code",
      "metadata": {
        "id": "vqfvpiWQ5kIq",
        "colab": {
          "base_uri": "https://localhost:8080/"
        },
        "outputId": "6e4e05e4-ed1e-47e7-85e1-ee200c6ff7c8"
      },
      "source": [
        "confusion_matrix(y_pred,y_test)"
      ],
      "execution_count": null,
      "outputs": [
        {
          "output_type": "execute_result",
          "data": {
            "text/plain": [
              "array([[8, 2],\n",
              "       [0, 5]])"
            ]
          },
          "metadata": {
            "tags": []
          },
          "execution_count": 16
        }
      ]
    },
    {
      "cell_type": "code",
      "metadata": {
        "colab": {
          "base_uri": "https://localhost:8080/"
        },
        "id": "vKRjpY445sOh",
        "outputId": "dcffda18-4c04-41ef-d1c0-0ca57d39200a"
      },
      "source": [
        "from sklearn.model_selection import GridSearchCV\n",
        "model = SVC()\n",
        "param = {\n",
        "    'kernel':['linear','rbf','poly'],\n",
        "    'C':[0.1,1,10,100]\n",
        "}\n",
        "grid = GridSearchCV(model,param,cv=5)\n",
        "grid.fit(x_train,y_train)\n",
        "grid.best_params_"
      ],
      "execution_count": null,
      "outputs": [
        {
          "output_type": "execute_result",
          "data": {
            "text/plain": [
              "{'C': 1, 'kernel': 'poly'}"
            ]
          },
          "metadata": {
            "tags": []
          },
          "execution_count": 17
        }
      ]
    },
    {
      "cell_type": "code",
      "metadata": {
        "id": "_6gNCjSN6Ama"
      },
      "source": [
        "SVC?"
      ],
      "execution_count": null,
      "outputs": []
    },
    {
      "cell_type": "code",
      "metadata": {
        "id": "J7uh6gxh6FOd"
      },
      "source": [
        "model = SVC(C=0.1,kernel= 'linear')"
      ],
      "execution_count": null,
      "outputs": []
    },
    {
      "cell_type": "code",
      "metadata": {
        "id": "6ICCjRls6_VR",
        "colab": {
          "base_uri": "https://localhost:8080/"
        },
        "outputId": "335f2b74-591f-47e2-e8f4-fbf30318d207"
      },
      "source": [
        "model.fit(x_train,y_train)\n",
        "y_pred = model.predict(x_test)\n",
        "from sklearn.metrics import accuracy_score,confusion_matrix,classification_report\n",
        "accuracy_score(y_pred,y_test)"
      ],
      "execution_count": null,
      "outputs": [
        {
          "output_type": "execute_result",
          "data": {
            "text/plain": [
              "1.0"
            ]
          },
          "metadata": {
            "tags": []
          },
          "execution_count": 20
        }
      ]
    },
    {
      "cell_type": "code",
      "metadata": {
        "id": "T6yfQcAf7bUH",
        "colab": {
          "base_uri": "https://localhost:8080/"
        },
        "outputId": "4bdb8af9-52b3-4fae-fac3-9b7ddb03f3c6"
      },
      "source": [
        "confusion_matrix(y_pred,y_test)"
      ],
      "execution_count": null,
      "outputs": [
        {
          "output_type": "execute_result",
          "data": {
            "text/plain": [
              "array([[8, 0],\n",
              "       [0, 7]])"
            ]
          },
          "metadata": {
            "tags": []
          },
          "execution_count": 21
        }
      ]
    }
  ]
}